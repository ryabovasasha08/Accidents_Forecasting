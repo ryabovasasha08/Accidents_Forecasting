{
 "cells": [
  {
   "cell_type": "markdown",
   "metadata": {},
   "source": [
    "#### Download and explore dataset"
   ]
  },
  {
   "cell_type": "code",
   "execution_count": 2,
   "metadata": {},
   "outputs": [
    {
     "data": {
      "text/html": [
       "<div>\n",
       "<style scoped>\n",
       "    .dataframe tbody tr th:only-of-type {\n",
       "        vertical-align: middle;\n",
       "    }\n",
       "\n",
       "    .dataframe tbody tr th {\n",
       "        vertical-align: top;\n",
       "    }\n",
       "\n",
       "    .dataframe thead th {\n",
       "        text-align: right;\n",
       "    }\n",
       "</style>\n",
       "<table border=\"1\" class=\"dataframe\">\n",
       "  <thead>\n",
       "    <tr style=\"text-align: right;\">\n",
       "      <th></th>\n",
       "      <th>MONATSZAHL</th>\n",
       "      <th>AUSPRAEGUNG</th>\n",
       "      <th>JAHR</th>\n",
       "      <th>MONAT</th>\n",
       "      <th>WERT</th>\n",
       "      <th>VORJAHRESWERT</th>\n",
       "      <th>VERAEND_VORMONAT_PROZENT</th>\n",
       "      <th>VERAEND_VORJAHRESMONAT_PROZENT</th>\n",
       "      <th>ZWOELF_MONATE_MITTELWERT</th>\n",
       "    </tr>\n",
       "  </thead>\n",
       "  <tbody>\n",
       "    <tr>\n",
       "      <th>0</th>\n",
       "      <td>Alkoholunfälle</td>\n",
       "      <td>insgesamt</td>\n",
       "      <td>2023</td>\n",
       "      <td>202301</td>\n",
       "      <td>NaN</td>\n",
       "      <td>19.0</td>\n",
       "      <td>NaN</td>\n",
       "      <td>NaN</td>\n",
       "      <td>NaN</td>\n",
       "    </tr>\n",
       "    <tr>\n",
       "      <th>1</th>\n",
       "      <td>Alkoholunfälle</td>\n",
       "      <td>insgesamt</td>\n",
       "      <td>2023</td>\n",
       "      <td>202302</td>\n",
       "      <td>NaN</td>\n",
       "      <td>32.0</td>\n",
       "      <td>NaN</td>\n",
       "      <td>NaN</td>\n",
       "      <td>NaN</td>\n",
       "    </tr>\n",
       "    <tr>\n",
       "      <th>2</th>\n",
       "      <td>Alkoholunfälle</td>\n",
       "      <td>insgesamt</td>\n",
       "      <td>2023</td>\n",
       "      <td>202303</td>\n",
       "      <td>NaN</td>\n",
       "      <td>28.0</td>\n",
       "      <td>NaN</td>\n",
       "      <td>NaN</td>\n",
       "      <td>NaN</td>\n",
       "    </tr>\n",
       "    <tr>\n",
       "      <th>3</th>\n",
       "      <td>Alkoholunfälle</td>\n",
       "      <td>insgesamt</td>\n",
       "      <td>2023</td>\n",
       "      <td>202304</td>\n",
       "      <td>NaN</td>\n",
       "      <td>34.0</td>\n",
       "      <td>NaN</td>\n",
       "      <td>NaN</td>\n",
       "      <td>NaN</td>\n",
       "    </tr>\n",
       "    <tr>\n",
       "      <th>4</th>\n",
       "      <td>Alkoholunfälle</td>\n",
       "      <td>insgesamt</td>\n",
       "      <td>2023</td>\n",
       "      <td>202305</td>\n",
       "      <td>NaN</td>\n",
       "      <td>57.0</td>\n",
       "      <td>NaN</td>\n",
       "      <td>NaN</td>\n",
       "      <td>NaN</td>\n",
       "    </tr>\n",
       "  </tbody>\n",
       "</table>\n",
       "</div>"
      ],
      "text/plain": [
       "       MONATSZAHL AUSPRAEGUNG  JAHR   MONAT  WERT  VORJAHRESWERT  \\\n",
       "0  Alkoholunfälle   insgesamt  2023  202301   NaN           19.0   \n",
       "1  Alkoholunfälle   insgesamt  2023  202302   NaN           32.0   \n",
       "2  Alkoholunfälle   insgesamt  2023  202303   NaN           28.0   \n",
       "3  Alkoholunfälle   insgesamt  2023  202304   NaN           34.0   \n",
       "4  Alkoholunfälle   insgesamt  2023  202305   NaN           57.0   \n",
       "\n",
       "   VERAEND_VORMONAT_PROZENT  VERAEND_VORJAHRESMONAT_PROZENT  \\\n",
       "0                       NaN                             NaN   \n",
       "1                       NaN                             NaN   \n",
       "2                       NaN                             NaN   \n",
       "3                       NaN                             NaN   \n",
       "4                       NaN                             NaN   \n",
       "\n",
       "   ZWOELF_MONATE_MITTELWERT  \n",
       "0                       NaN  \n",
       "1                       NaN  \n",
       "2                       NaN  \n",
       "3                       NaN  \n",
       "4                       NaN  "
      ]
     },
     "execution_count": 2,
     "metadata": {},
     "output_type": "execute_result"
    }
   ],
   "source": [
    "import pandas as pd\n",
    "# Read the CSV file\n",
    "all_data = pd.read_csv(\"data/monatszahlen2311_verkehrsunfaelle_export_24_11_23_r.csv\")\n",
    "\n",
    "# View the first 5 rows\n",
    "all_data.head()"
   ]
  },
  {
   "cell_type": "code",
   "execution_count": 3,
   "metadata": {},
   "outputs": [
    {
     "name": "stdout",
     "output_type": "stream",
     "text": [
      "MONATSZAHL options:  ['Alkoholunfälle' 'Fluchtunfälle' 'Verkehrsunfälle']\n",
      "AUSPRAEGUNG options:  ['insgesamt' 'Verletzte und Getötete' 'mit Personenschäden']\n",
      "JAHR options:  [2023 2022 2021 2020 2019 2018 2017 2016 2015 2014 2013 2012 2011 2010\n",
      " 2009 2008 2007 2006 2005 2004]\n",
      "MONAT options:  ['202301' '202302' '202303' '202304' '202305' '202306' '202307' '202308'\n",
      " '202309' '202310' '202311' '202312' 'Summe' '202201' '202202' '202203'\n",
      " '202204' '202205' '202206' '202207']\n",
      "WERT options:  [ nan 493.  19.  32.  28.  34.  57.  60.  54.  44.  56.  49. 383.  16.\n",
      "  14.  24.  48.  46.  43.  33.]\n",
      "VORJAHRESWERT options:  [ 19.  32.  28.  34.  57.  60.  54.  44.  56.  49. 383.  16.  14.  24.\n",
      "  48.  46.  43.  33.  21. 430.]\n",
      "VERAEND_VORMONAT_PROZENT options:  [   nan  -9.52  68.42 -12.5   21.43  67.65   5.26 -10.   -18.52  27.27\n",
      " -42.86  14.29  23.08  71.43 -33.33  50.   100.    -8.33   4.55  17.39]\n",
      "VERAEND_VORJAHRESMONAT_PROZENT options:  [   nan  28.72  18.75 128.57  16.67 112.5  137.5   25.    22.73  -4.35\n",
      "   3.7   13.95 -15.15  52.38 -10.93 -42.86 -65.   -11.11 -38.46 -40.  ]\n",
      "ZWOELF_MONATE_MITTELWERT options:  [nan 32. 34. 36. 38. 39. 40. 41. 35. 33. 30. 29. 31. 37. 25. 26. 27. 28.\n",
      " 46. 44.]\n"
     ]
    }
   ],
   "source": [
    "for col_name in all_data.columns:\n",
    "    print(col_name + \" options: \", all_data[col_name].unique()[:20])"
   ]
  }
 ],
 "metadata": {
  "kernelspec": {
   "display_name": "Python 3",
   "language": "python",
   "name": "python3"
  },
  "language_info": {
   "codemirror_mode": {
    "name": "ipython",
    "version": 3
   },
   "file_extension": ".py",
   "mimetype": "text/x-python",
   "name": "python",
   "nbconvert_exporter": "python",
   "pygments_lexer": "ipython3",
   "version": "3.10.8"
  }
 },
 "nbformat": 4,
 "nbformat_minor": 2
}
